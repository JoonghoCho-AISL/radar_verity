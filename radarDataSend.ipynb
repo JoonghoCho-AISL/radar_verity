{
 "cells": [
  {
   "cell_type": "code",
   "execution_count": 1,
   "metadata": {},
   "outputs": [],
   "source": [
    "import os\n",
    "from MobiusAPI import http_post_get\n",
    "import json\n",
    "import numpy as np\n",
    "\n",
    "# disk_path = 'counting_disk'\n",
    "# cylinder_path = 'counting_cylinder'\n",
    "\n",
    "def sample_data(path):\n",
    "    path_list = sorted(os.listdir(path))\n",
    "    data = None\n",
    "    for i in path_list:\n",
    "        temp_path = os.path.join(path, i)\n",
    "        temp_data = np.reshape(np.load(temp_path)[0], (1, -1, 1))\n",
    "        if data is None:\n",
    "            data = temp_data\n",
    "        else:\n",
    "            data = np.concatenate((data, temp_data), axis=0)\n",
    "    return data\n",
    "\n",
    "# disk_data = sample_data(disk_path)\n",
    "# cylinder_data = sample_data(cylinder_path)\n",
    "\n",
    "# sample_data = np.concatenate((disk_data, cylinder_data), axis=0)\n",
    "URI = '/Mobius/radarEye1/sensor1/inferenceInput'\n",
    "AE_ID = 'radarEye1'\n",
    "\n",
    "# try:\n",
    "#     for i in range(sample_data.shape[0]):\n",
    "#         input(\"Press Enter to Measure Radar Data\")\n",
    "#         send_data = {'data_1': np.expand_dims(sample_data[i], axis=0).tolist()}\n",
    "#         http_post_get.mobius_post(URI, AE_ID, AE_ID, send_data)\n",
    "# except KeyboardInterrupt:\n",
    "#     print('End')\n"
   ]
  },
  {
   "cell_type": "code",
   "execution_count": null,
   "metadata": {},
   "outputs": [],
   "source": [
    "data_path = 'recognition'\n",
    "path = os.path.join('test_data', data_path)\n",
    "data = sample_data(path)\n",
    "print(data.shape)\n",
    "for i in range(data.shape[0]):\n",
    "    input(\"Press Enter to Measure Radar Data\")\n",
    "    send_data = {'input_1' :  np.expand_dims(data[i], axis=0).tolist()}\n",
    "    http_post_get.mobius_post(URI, AE_ID, AE_ID, send_data) "
   ]
  },
  {
   "cell_type": "code",
   "execution_count": null,
   "metadata": {},
   "outputs": [],
   "source": [
    "data_path = 'counting'\n",
    "path = os.path.join('test_data', data_path)\n",
    "data = sample_data(path)\n",
    "print(data.shape)\n",
    "for i in range(data.shape[0]):\n",
    "    input(\"Press Enter to Measure Radar Data\")\n",
    "    send_data = {'input_1' :  np.expand_dims(data[i], axis=0).tolist()}\n",
    "    http_post_get.mobius_post(URI, AE_ID, AE_ID, send_data) "
   ]
  }
 ],
 "metadata": {
  "kernelspec": {
   "display_name": "121",
   "language": "python",
   "name": "python3"
  },
  "language_info": {
   "codemirror_mode": {
    "name": "ipython",
    "version": 3
   },
   "file_extension": ".py",
   "mimetype": "text/x-python",
   "name": "python",
   "nbconvert_exporter": "python",
   "pygments_lexer": "ipython3",
   "version": "3.8.13"
  }
 },
 "nbformat": 4,
 "nbformat_minor": 2
}
